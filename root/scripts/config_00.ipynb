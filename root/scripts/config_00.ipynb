{
 "cells": [
  {
   "cell_type": "markdown",
   "metadata": {},
   "source": [
    "Create config file to calculate the position annd intensity of Bragg peaks accross all the diffraction images of time series. Some of paths may need to be updated <br \\>\n",
    "writes average_timeSeries_00.ini file that contains all peak coordinates information"
   ]
  },
  {
   "cell_type": "code",
   "execution_count": 24,
   "metadata": {},
   "outputs": [],
   "source": [
    "from configparser import ConfigParser\n",
    "import numpy as np\n",
    "import os\n",
    "\n",
    "HOME=r'C:/Users/sumit/Documents/GITHUB/UED'\n",
    "PATH_peak=HOME+'/root/peakFiles'\n",
    "PATH_avgData=HOME+'/data/Averaged_Intensity'\n",
    "\n",
    "config = ConfigParser()\n",
    "peakCoords=np.loadtxt(PATH_peak+'/peakFile.csv', delimiter=',')\n",
    "noPeaks=len(peakCoords)\n",
    "\n",
    "#all config entries -- start with top level, this is required to initialize time series calculations\n",
    "config[\"TOP_LEVEL\"]={\n",
    "    \"path\":PATH_avgData,  #***write full pathname when running this in HPC cluster***\n",
    "    #\"foldermin\":1,\n",
    "\t \"foldermax\":'%d'%len(peakCoords),\n",
    "    \"initialTime\":60,\n",
    "\t\"backgroundFilter\":\"ON\",\n",
    "    }"
   ]
  },
  {
   "cell_type": "code",
   "execution_count": 25,
   "metadata": {},
   "outputs": [],
   "source": [
    "with open(\"./average_timeSeries_00.ini\",'w') as f:\n",
    "    config.write(f)\n",
    "\n",
    "\n",
    "for i in range(noPeaks):\n",
    "    config[\"Peak_%02d\"%(i+1)]={\n",
    "        \"path\":PATH_avgData,  #***write full pathname when running this in HPC cluster***\n",
    "        \"initialTime\":60,\n",
    "    \t\"peakNumber\":'%d'%(i+1),\n",
    "    \t\"peakXcoord\":'%d'%peakCoords[i,0],\n",
    "    \t\"peakYcoord\":'%d'%peakCoords[i,1],\n",
    "    \t\"backgroundFilter\":\"ON\",\n",
    "        }\n",
    "\n",
    "    with open(\"./average_timeSeries_00.ini\",'w') as f:\n",
    "        config.write(f)"
   ]
  },
  {
   "cell_type": "code",
   "execution_count": 26,
   "metadata": {},
   "outputs": [
    {
     "data": {
      "text/plain": [
       "str"
      ]
     },
     "execution_count": 26,
     "metadata": {},
     "output_type": "execute_result"
    }
   ],
   "source": [
    "PATH1=os.getcwd()\n",
    "type(PATH1)\n",
    "#peakPath=PATH1.rsplit('\\')[-1]\n",
    "#print(peakPath)"
   ]
  },
  {
   "cell_type": "code",
   "execution_count": null,
   "metadata": {},
   "outputs": [],
   "source": []
  }
 ],
 "metadata": {
  "kernelspec": {
   "display_name": "base",
   "language": "python",
   "name": "python3"
  },
  "language_info": {
   "codemirror_mode": {
    "name": "ipython",
    "version": 3
   },
   "file_extension": ".py",
   "mimetype": "text/x-python",
   "name": "python",
   "nbconvert_exporter": "python",
   "pygments_lexer": "ipython3",
   "version": "3.9.13"
  },
  "orig_nbformat": 4
 },
 "nbformat": 4,
 "nbformat_minor": 2
}
